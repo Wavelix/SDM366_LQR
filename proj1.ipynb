{
 "cells": [
  {
   "cell_type": "code",
   "execution_count": 1,
   "metadata": {},
   "outputs": [],
   "source": [
    "import sympy as sp\n",
    "import numpy as np"
   ]
  },
  {
   "cell_type": "markdown",
   "metadata": {},
   "source": [
    "状态空间模型"
   ]
  },
  {
   "cell_type": "code",
   "execution_count": 2,
   "metadata": {},
   "outputs": [
    {
     "name": "stdout",
     "output_type": "stream",
     "text": [
      "x1_dot:  x3\n",
      "x2_dot:  -x4\n",
      "x3_dot:  (mp*(L*x4**2 - g*cos(x2))*sin(x2) + u)/(mc + mp*sin(x2)**2)\n",
      "x4_dot:  (L*mp*x4**2*sin(x2)*cos(x2) - g*(mc + mp)*sin(x2) + u*cos(x2))/(L*mc + L*mp*sin(x2)**2)\n"
     ]
    }
   ],
   "source": [
    "x1,x2,x3,x4 = sp.symbols('x1 x2 x3 x4')\n",
    "u, mp, L, mc, g = sp.symbols('u mp L mc g')\n",
    "\n",
    "# 定义状态空间模型\n",
    "x1_dot = x3\n",
    "x2_dot = -x4\n",
    "x3_dot = (u + mp * sp.sin(x2) * (L * x4**2 - g * sp.cos(x2))) / (mc + mp * sp.sin(x2)**2)\n",
    "x4_dot = (u * sp.cos(x2) + mp * L * x4**2 * sp.cos(x2) * sp.sin(x2) - (mc + mp) * g * sp.sin(x2)) / (L * mc + L * mp * sp.sin(x2)**2)\n",
    "\n",
    "print(f'x1_dot: ', x1_dot)\n",
    "print(f'x2_dot: ', x2_dot)\n",
    "print(f'x3_dot: ', x3_dot)\n",
    "print(f'x4_dot: ', x4_dot)"
   ]
  },
  {
   "cell_type": "markdown",
   "metadata": {},
   "source": [
    "求偏导"
   ]
  },
  {
   "cell_type": "code",
   "execution_count": 3,
   "metadata": {},
   "outputs": [
    {
     "name": "stdout",
     "output_type": "stream",
     "text": [
      "pf1x1: 0\n",
      "pf1x2: 0\n",
      "pf1x3: 1\n",
      "pf1x4: 0\n",
      "\n",
      "pf2x1: 0\n",
      "pf2x2: 0\n",
      "pf2x3: 0\n",
      "pf2x4: -1\n",
      "\n",
      "pf3x1: 0\n",
      "pf3x2: -2*mp*(mp*(L*x4**2 - g*cos(x2))*sin(x2) + u)*sin(x2)*cos(x2)/(mc + mp*sin(x2)**2)**2 + (g*mp*sin(x2)**2 + mp*(L*x4**2 - g*cos(x2))*cos(x2))/(mc + mp*sin(x2)**2)\n",
      "pf3x3: 0\n",
      "pf3x4: 2*L*mp*x4*sin(x2)/(mc + mp*sin(x2)**2)\n",
      "\n",
      "pf4x1: 0\n",
      "pf4x2: -2*L*mp*(L*mp*x4**2*sin(x2)*cos(x2) - g*(mc + mp)*sin(x2) + u*cos(x2))*sin(x2)*cos(x2)/(L*mc + L*mp*sin(x2)**2)**2 + (-L*mp*x4**2*sin(x2)**2 + L*mp*x4**2*cos(x2)**2 - g*(mc + mp)*cos(x2) - u*sin(x2))/(L*mc + L*mp*sin(x2)**2)\n",
      "pf4x3: 0\n",
      "pf4x4: 2*L*mp*x4*sin(x2)*cos(x2)/(L*mc + L*mp*sin(x2)**2)\n",
      "\n",
      "pf1u1: 0\n",
      "\n",
      "pf2u1: 0\n",
      "\n",
      "pf3u1: 1/(mc + mp*sin(x2)**2)\n",
      "\n",
      "pf4u1: cos(x2)/(L*mc + L*mp*sin(x2)**2)\n",
      "\n"
     ]
    }
   ],
   "source": [
    "X = [x1, x2, x3, x4]\n",
    "f = [x1_dot, x2_dot, x3_dot, x4_dot]\n",
    "U = [u]\n",
    "# 计算雅可比矩阵（偏导数矩阵）\n",
    "pfx = sp.Matrix(len(f), len(X), lambda i, j: sp.diff(f[i], X[j]))\n",
    "pfu = sp.Matrix(len(f), len(U), lambda i, j: sp.diff(f[i], U[j]))\n",
    "\n",
    "for i in range(len(f)):\n",
    "    for j in range(len(X)):\n",
    "        print(f'pf{i+1}x{j+1}:', pfx[i, j])\n",
    "    print()\n",
    "\n",
    "for i in range(len(f)):\n",
    "    for j in range(len(U)):\n",
    "        print(f'pf{i+1}u{j+1}:', pfu[i, j])\n",
    "    print()\n"
   ]
  },
  {
   "cell_type": "markdown",
   "metadata": {},
   "source": [
    "在x = 0，u = 0处线性化"
   ]
  },
  {
   "cell_type": "code",
   "execution_count": 4,
   "metadata": {},
   "outputs": [
    {
     "name": "stdout",
     "output_type": "stream",
     "text": [
      "A_hat:\n",
      " [[  0.      0.      1.      0.   ]\n",
      " [  0.      0.      0.     -1.   ]\n",
      " [  0.     -0.981   0.      0.   ]\n",
      " [  0.    -21.582   0.      0.   ]]\n",
      "B_hat:\n",
      " [[0. ]\n",
      " [0. ]\n",
      " [0.1]\n",
      " [0.2]]\n"
     ]
    }
   ],
   "source": [
    "x1_hat,x2_hat,x3_hat,x4_hat = 0,0,0,0\n",
    "u_hat = 0\n",
    "mp_value = 1\n",
    "mc_value = 10\n",
    "g_value = 9.81\n",
    "L_value = 0.5\n",
    "subs_list = [\n",
    "    (x1, x1_hat), (x2, x2_hat), (x3, x3_hat), (x4, x4_hat),\n",
    "    (u, u_hat), (mp, mp_value), (mc, mc_value), (g, g_value), (L, L_value)\n",
    "]\n",
    "A_hat = pfx.subs(subs_list).evalf()\n",
    "B_hat = pfu.subs(subs_list).evalf()\n",
    "\n",
    "#转化为numpy矩阵\n",
    "A_hat = np.array(A_hat.tolist()).astype(np.float64)\n",
    "B_hat = np.array(B_hat.tolist()).astype(np.float64)\n",
    "\n",
    "print(f'A_hat:\\n {A_hat}')\n",
    "print(f'B_hat:\\n {B_hat}')\n"
   ]
  },
  {
   "cell_type": "markdown",
   "metadata": {},
   "source": []
  },
  {
   "cell_type": "markdown",
   "metadata": {},
   "source": [
    "离散时间动力学模型"
   ]
  },
  {
   "cell_type": "code",
   "execution_count": 5,
   "metadata": {},
   "outputs": [
    {
     "name": "stdout",
     "output_type": "stream",
     "text": [
      "A_discrete:\n",
      " [[ 1.       0.       0.01     0.     ]\n",
      " [ 0.       1.       0.      -0.01   ]\n",
      " [ 0.      -0.00981  1.       0.     ]\n",
      " [ 0.      -0.21582  0.       1.     ]]\n",
      "B_discrete:\n",
      " [[0.   ]\n",
      " [0.   ]\n",
      " [0.001]\n",
      " [0.002]]\n"
     ]
    }
   ],
   "source": [
    "det_T = 0.01  # 采样时间\n",
    "\n",
    "# 离散化\n",
    "A_discrete = np.eye(4) + det_T * A_hat\n",
    "B_discrete = det_T * B_hat\n",
    "\n",
    "print(f'A_discrete:\\n {A_discrete}')\n",
    "print(f'B_discrete:\\n {B_discrete}')"
   ]
  }
 ],
 "metadata": {
  "kernelspec": {
   "display_name": "class",
   "language": "python",
   "name": "python3"
  },
  "language_info": {
   "codemirror_mode": {
    "name": "ipython",
    "version": 3
   },
   "file_extension": ".py",
   "mimetype": "text/x-python",
   "name": "python",
   "nbconvert_exporter": "python",
   "pygments_lexer": "ipython3",
   "version": "3.11.11"
  }
 },
 "nbformat": 4,
 "nbformat_minor": 2
}
