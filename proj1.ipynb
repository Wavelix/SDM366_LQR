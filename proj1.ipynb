{
 "cells": [
  {
   "cell_type": "code",
   "execution_count": 2,
   "metadata": {},
   "outputs": [],
   "source": [
    "import sympy as sp\n"
   ]
  },
  {
   "cell_type": "markdown",
   "metadata": {},
   "source": [
    "状态空间模型"
   ]
  },
  {
   "cell_type": "code",
   "execution_count": 3,
   "metadata": {},
   "outputs": [
    {
     "name": "stdout",
     "output_type": "stream",
     "text": [
      "x1_dot:  x3\n",
      "x2_dot:  -x4\n",
      "x3_dot:  (mp*(L*x4**2 - g*cos(x2))*sin(x2) + u)/(mc + mp*sin(x2)**2)\n",
      "x4_dot:  (L*mp*x4**2*sin(x2)*cos(x2) - g*(mc + mp)*sin(x2) + u*cos(x2))/(L*mc + L*mp*sin(x2)**2)\n"
     ]
    }
   ],
   "source": [
    "x1,x2,x3,x4 = sp.symbols('x1 x2 x3 x4')\n",
    "u, mp, L, mc, g = sp.symbols('u mp L mc g')\n",
    "\n",
    "# 定义状态空间模型\n",
    "x1_dot = x3\n",
    "x2_dot = -x4\n",
    "x3_dot = (u + mp * sp.sin(x2) * (L * x4**2 - g * sp.cos(x2))) / (mc + mp * sp.sin(x2)**2)\n",
    "x4_dot = (u * sp.cos(x2) + mp * L * x4**2 * sp.cos(x2) * sp.sin(x2) - (mc + mp) * g * sp.sin(x2)) / (L * mc + L * mp * sp.sin(x2)**2)\n",
    "\n",
    "print(f'x1_dot: ', x1_dot)\n",
    "print(f'x2_dot: ', x2_dot)\n",
    "print(f'x3_dot: ', x3_dot)\n",
    "print(f'x4_dot: ', x4_dot)"
   ]
  },
  {
   "cell_type": "markdown",
   "metadata": {},
   "source": [
    "求偏导，在x = 0，u = 0处线性化"
   ]
  },
  {
   "cell_type": "code",
   "execution_count": 4,
   "metadata": {},
   "outputs": [
    {
     "name": "stdout",
     "output_type": "stream",
     "text": [
      "pf3x2:  -2*mp*(mp*(L*x4**2 - g*cos(x2))*sin(x2) + u)*sin(x2)*cos(x2)/(mc + mp*sin(x2)**2)**2 + (g*mp*sin(x2)**2 + mp*(L*x4**2 - g*cos(x2))*cos(x2))/(mc + mp*sin(x2)**2)\n",
      "pf3x4:  2*L*mp*x4*sin(x2)/(mc + mp*sin(x2)**2)\n",
      "pf4x2:  -2*L*mp*(L*mp*x4**2*sin(x2)*cos(x2) - g*(mc + mp)*sin(x2) + u*cos(x2))*sin(x2)*cos(x2)/(L*mc + L*mp*sin(x2)**2)**2 + (-L*mp*x4**2*sin(x2)**2 + L*mp*x4**2*cos(x2)**2 - g*(mc + mp)*cos(x2) - u*sin(x2))/(L*mc + L*mp*sin(x2)**2)\n",
      "pf4x4:  2*L*mp*x4*sin(x2)*cos(x2)/(L*mc + L*mp*sin(x2)**2)\n"
     ]
    }
   ],
   "source": [
    "#计算关于 x2 和 x4 的偏导数\n",
    "\n",
    "pf3x2 = sp.diff(x3_dot, x2)\n",
    "pf3x4 = sp.diff(x3_dot, x4)\n",
    "print(f'pf3x2: ', pf3x2)\n",
    "print(f'pf3x4: ', pf3x4)\n",
    "\n",
    "pf4x2 = sp.diff(x4_dot, x2)\n",
    "pf4x4 = sp.diff(x4_dot, x4)\n",
    "print(f'pf4x2: ', pf4x2)\n",
    "print(f'pf4x4: ', pf4x4)"
   ]
  }
 ],
 "metadata": {
  "kernelspec": {
   "display_name": "class",
   "language": "python",
   "name": "python3"
  },
  "language_info": {
   "codemirror_mode": {
    "name": "ipython",
    "version": 3
   },
   "file_extension": ".py",
   "mimetype": "text/x-python",
   "name": "python",
   "nbconvert_exporter": "python",
   "pygments_lexer": "ipython3",
   "version": "3.11.11"
  }
 },
 "nbformat": 4,
 "nbformat_minor": 2
}
